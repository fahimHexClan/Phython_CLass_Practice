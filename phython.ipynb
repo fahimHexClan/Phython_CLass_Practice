{
 "cells": [
  {
   "cell_type": "code",
   "execution_count": 13,
   "metadata": {},
   "outputs": [
    {
     "name": "stdout",
     "output_type": "stream",
     "text": [
      "fahim\n"
     ]
    }
   ],
   "source": [
    "print(\"fahim\")"
   ]
  },
  {
   "cell_type": "code",
   "execution_count": 14,
   "metadata": {},
   "outputs": [
    {
     "name": "stdout",
     "output_type": "stream",
     "text": [
      "20\n"
     ]
    }
   ],
   "source": [
    "a= 10\n",
    "b=10\n",
    "c=a+b\n",
    "print(c)"
   ]
  },
  {
   "cell_type": "code",
   "execution_count": 15,
   "metadata": {},
   "outputs": [
    {
     "name": "stdout",
     "output_type": "stream",
     "text": [
      "200\n",
      "<class 'int'>\n"
     ]
    }
   ],
   "source": [
    "a=200\n",
    "print(a)\n",
    "print(type(a))"
   ]
  },
  {
   "cell_type": "code",
   "execution_count": 16,
   "metadata": {},
   "outputs": [
    {
     "name": "stdout",
     "output_type": "stream",
     "text": [
      "The type of variable having value  20 is <class 'int'>\n"
     ]
    }
   ],
   "source": [
    "print(\"The type of variable having value \",c,\"is\",type(c))"
   ]
  },
  {
   "cell_type": "code",
   "execution_count": 17,
   "metadata": {},
   "outputs": [
    {
     "name": "stdout",
     "output_type": "stream",
     "text": [
      "25000.0 <class 'float'>\n"
     ]
    }
   ],
   "source": [
    "num_1=2.5e4\n",
    "print(num_1,type(num_1))"
   ]
  },
  {
   "cell_type": "code",
   "execution_count": 18,
   "metadata": {},
   "outputs": [
    {
     "name": "stdout",
     "output_type": "stream",
     "text": [
      "5.0 <class 'float'>\n"
     ]
    }
   ],
   "source": [
    "num_1=5\n",
    "num_2=12.7\n",
    "a=float(num_1)\n",
    "print(a,type(a))"
   ]
  },
  {
   "cell_type": "code",
   "execution_count": 19,
   "metadata": {},
   "outputs": [
    {
     "name": "stdout",
     "output_type": "stream",
     "text": [
      "12 <class 'int'>\n"
     ]
    }
   ],
   "source": [
    "num_1=5\n",
    "num_2=12.7\n",
    "b = int(num_2)\n",
    "print(b,type(b))"
   ]
  },
  {
   "cell_type": "code",
   "execution_count": 20,
   "metadata": {},
   "outputs": [
    {
     "name": "stdout",
     "output_type": "stream",
     "text": [
      "[1, 12, 123, 44, 44] <class 'list'>\n"
     ]
    }
   ],
   "source": [
    "my_list=[1,12,123,44,44]\n",
    "print(my_list,type(my_list))"
   ]
  },
  {
   "cell_type": "code",
   "execution_count": 21,
   "metadata": {},
   "outputs": [
    {
     "name": "stdout",
     "output_type": "stream",
     "text": [
      "123\n"
     ]
    }
   ],
   "source": [
    "print(my_list[2])"
   ]
  },
  {
   "cell_type": "code",
   "execution_count": 22,
   "metadata": {},
   "outputs": [
    {
     "name": "stdout",
     "output_type": "stream",
     "text": [
      "40\n",
      "[1, 1000, 123, 40, 44]\n"
     ]
    }
   ],
   "source": [
    "my_list_1=[1,12,123,40,44]\n",
    "my_list_1 [1]=1000\n",
    "print(my_list_1[-2])\n",
    "print(my_list_1)"
   ]
  },
  {
   "cell_type": "code",
   "execution_count": 23,
   "metadata": {},
   "outputs": [
    {
     "name": "stdout",
     "output_type": "stream",
     "text": [
      "7\n"
     ]
    }
   ],
   "source": [
    "my_list_3=[1,22,33,\"cat\",3,True,99]\n",
    "print(len(my_list_3))     # get arry length we use len\n"
   ]
  },
  {
   "cell_type": "code",
   "execution_count": 24,
   "metadata": {},
   "outputs": [
    {
     "name": "stdout",
     "output_type": "stream",
     "text": [
      "True\n"
     ]
    }
   ],
   "source": [
    "print(my_list_3[-2])#its mean last index -2 two "
   ]
  },
  {
   "cell_type": "code",
   "execution_count": 25,
   "metadata": {},
   "outputs": [
    {
     "name": "stdout",
     "output_type": "stream",
     "text": [
      "[22, 33, 'cat']\n"
     ]
    }
   ],
   "source": [
    "my_list_4=[1,22,33,\"cat\",3,True,3]\n",
    "print(my_list_4[1:4])      #its mean 1st index to 4 "
   ]
  },
  {
   "cell_type": "code",
   "execution_count": 26,
   "metadata": {},
   "outputs": [
    {
     "name": "stdout",
     "output_type": "stream",
     "text": [
      "[1, 22, 33, 'cat']\n"
     ]
    }
   ],
   "source": [
    "print(my_list_4[:4]) #its mean 1st is no value that take 0"
   ]
  },
  {
   "cell_type": "code",
   "execution_count": 27,
   "metadata": {},
   "outputs": [
    {
     "name": "stdout",
     "output_type": "stream",
     "text": [
      "[3, True, 3]\n"
     ]
    }
   ],
   "source": [
    "print(my_list_4[4:]) #its mean index num 4to  last"
   ]
  },
  {
   "cell_type": "code",
   "execution_count": 28,
   "metadata": {},
   "outputs": [
    {
     "name": "stdout",
     "output_type": "stream",
     "text": [
      "[1, 22, 'Dog', 12, 'cat', 3, True, 3]\n"
     ]
    }
   ],
   "source": [
    "A = [1, 22, 33, \"cat\", 3, True, 3]\n",
    "# A[2] = \"Dog\"\n",
    "# A[3] = 19.0\n",
    "\n",
    "# print(A[3], A[2])\n",
    "\n",
    "A[2:3] = \"Dog\", 12\n",
    "\n",
    "print(A)\n"
   ]
  },
  {
   "cell_type": "code",
   "execution_count": 29,
   "metadata": {},
   "outputs": [
    {
     "name": "stdout",
     "output_type": "stream",
     "text": [
      "[1, 22, 33, 'rabbit', 'cat', 3, True, 3] 8\n"
     ]
    }
   ],
   "source": [
    "B= [1, 22, 33, \"cat\", 3, True, 3]\n",
    "\n",
    "B.insert(3,\"rabbit\") #item array ekata add karanna insert use karanawa\n",
    "print(B,len(B))"
   ]
  },
  {
   "cell_type": "code",
   "execution_count": 30,
   "metadata": {},
   "outputs": [
    {
     "name": "stdout",
     "output_type": "stream",
     "text": [
      "[1, 22, 33, 'cat', 3, True, 3, 'Car'] 8\n"
     ]
    }
   ],
   "source": [
    "C= [1, 22, 33, \"cat\", 3, True, 3]\n",
    "C.append(\"Car\")#last index we need to add data we can use append\n",
    "print(C,len(C))"
   ]
  },
  {
   "cell_type": "code",
   "execution_count": null,
   "metadata": {},
   "outputs": [
    {
     "name": "stdout",
     "output_type": "stream",
     "text": [
      "['Bus', False, 17, 1, 22, 33, 'cat', 3, True, 3]\n"
     ]
    }
   ],
   "source": [
    "D= [1, 22, 33, \"cat\", 3, True, 3]\n",
    "modi=[\"Bus\",False,17]\n",
    "modi.extend(D)#2 arrays join karanna use karanna extend\n",
    "print(modi)\n"
   ]
  },
  {
   "cell_type": "code",
   "execution_count": 32,
   "metadata": {},
   "outputs": [
    {
     "name": "stdout",
     "output_type": "stream",
     "text": [
      "[1, 22, 'cat', 3, True, 3] 6\n"
     ]
    }
   ],
   "source": [
    "E= [1, 22, 33, \"cat\", 3, True, 3]\n",
    "E.pop(2)#2nd index was deleted\n",
    "print(E,len(E))"
   ]
  },
  {
   "cell_type": "code",
   "execution_count": 33,
   "metadata": {},
   "outputs": [
    {
     "name": "stdout",
     "output_type": "stream",
     "text": [
      "[1, 45, 33, 'cat', 3, True, 3]\n"
     ]
    }
   ],
   "source": [
    "F= [1,45, 22, 33, \"cat\", 3, True, 3]\n",
    "del F[2]# delete is use del\n",
    "print(F)\n"
   ]
  },
  {
   "cell_type": "code",
   "execution_count": 34,
   "metadata": {},
   "outputs": [
    {
     "name": "stdout",
     "output_type": "stream",
     "text": [
      "[] 0\n"
     ]
    }
   ],
   "source": [
    "G= [1,45, 22, 33, \"cat\", 3, True, 3]\n",
    "G.clear()#data okkoma clear wenawa\n",
    "print(G,len(G))"
   ]
  },
  {
   "cell_type": "code",
   "execution_count": 35,
   "metadata": {},
   "outputs": [
    {
     "name": "stdout",
     "output_type": "stream",
     "text": [
      "['Banana', 'Cat', 'Papaw', 'apple'] 4\n"
     ]
    }
   ],
   "source": [
    "H= [\"apple\", \"Cat\", \"Banana\", \"Papaw\"]\n",
    "H.sort()  #uperLeters must value and alphabet order (case sansitive)\n",
    "print(H,len(H))"
   ]
  },
  {
   "cell_type": "code",
   "execution_count": 36,
   "metadata": {},
   "outputs": [
    {
     "name": "stdout",
     "output_type": "stream",
     "text": [
      "['Apple', 'Banana', 'cat', 'Papaw']\n"
     ]
    }
   ],
   "source": [
    "K= [\"Apple\", \"cat\", \"Banana\", \"Papaw\"]\n",
    "K.sort(key=str.lower) #koi order eka demath alphabat order ekn thma enna\n",
    "print(K)"
   ]
  },
  {
   "cell_type": "code",
   "execution_count": 15,
   "metadata": {},
   "outputs": [
    {
     "name": "stdout",
     "output_type": "stream",
     "text": [
      "['qapaw', 'cat', 'Banana', 'Apple']\n"
     ]
    }
   ],
   "source": [
    "I= [\"Apple\", \"cat\", \"Banana\", \"qapaw\"]\n",
    "I.sort(reverse=True) #\n",
    "print(I)"
   ]
  },
  {
   "cell_type": "code",
   "execution_count": 38,
   "metadata": {},
   "outputs": [
    {
     "name": "stdout",
     "output_type": "stream",
     "text": [
      "[5555, 888, 77, 212]\n"
     ]
    }
   ],
   "source": [
    "J= [212, 77, 888, 5555]\n",
    "J.reverse() #thiyana eka reverse ganna use wenawa\n",
    "print(J)"
   ]
  },
  {
   "cell_type": "code",
   "execution_count": 39,
   "metadata": {},
   "outputs": [
    {
     "name": "stdout",
     "output_type": "stream",
     "text": [
      "['Papaw', 'Banana', 'Cat', 'Apple']\n"
     ]
    }
   ],
   "source": [
    "J= [\"Apple\", \"Cat\", \"Banana\", \"Papaw\"]\n",
    "J.reverse() #thiyana eka reverse ganna use wenawa\n",
    "print(J)"
   ]
  },
  {
   "cell_type": "code",
   "execution_count": 40,
   "metadata": {},
   "outputs": [
    {
     "name": "stdout",
     "output_type": "stream",
     "text": [
      "Combined List: [-18, -10, -8, -3, -3, 2, 4, 5, 7, 9, 11, 12, 12]\n",
      "Q1 (First Quartile) of the combined set: -5.5\n",
      "Q3 (Third Quartile) of the combined set: 10.0\n"
     ]
    }
   ],
   "source": [
    "# Define the lists\n",
    "L = [-10, -18, 12, 5, 7, 12, -3]\n",
    "M = [-8, 4, -3, 9, 2, 11]\n",
    "\n",
    "# Step 1: Combine and sort the lists\n",
    "LM = sorted(L + M)\n",
    "\n",
    "# Step 2: Find the length of the combined list\n",
    "n = len(LM)\n",
    "\n",
    "# Function to calculate Q1\n",
    "def calculate_q1(data):\n",
    "    if n % 2 == 0:\n",
    "        lower_half = data[:n // 2]  # Includes the lower half when even\n",
    "    else:\n",
    "        lower_half = data[:(n // 2)]  # Excludes the middle element when odd\n",
    "\n",
    "    if len(lower_half) % 2 == 0:\n",
    "        mid = len(lower_half) // 2\n",
    "        q1_value = (lower_half[mid - 1] + lower_half[mid]) / 2\n",
    "    else:\n",
    "        q1_value = lower_half[len(lower_half) // 2]\n",
    "    \n",
    "    return q1_value\n",
    "\n",
    "# Function to calculate Q3\n",
    "def calculate_q3(data):\n",
    "    if n % 2 == 0:\n",
    "        upper_half = data[n // 2:]  # Includes the upper half when even\n",
    "    else:\n",
    "        upper_half = data[(n // 2) + 1:]  # Excludes the middle element when odd\n",
    "\n",
    "    if len(upper_half) % 2 == 0:\n",
    "        mid = len(upper_half) // 2\n",
    "        q3_value = (upper_half[mid - 1] + upper_half[mid]) / 2\n",
    "    else:\n",
    "        q3_value = upper_half[len(upper_half) // 2]\n",
    "    \n",
    "    return q3_value\n",
    "\n",
    "# Calculate Q1 and Q3\n",
    "q1_value = calculate_q1(LM)\n",
    "q3_value = calculate_q3(LM)\n",
    "\n",
    "# Print the results\n",
    "print(\"Combined List:\", LM)\n",
    "print(\"Q1 (First Quartile) of the combined set:\", q1_value)\n",
    "print(\"Q3 (Third Quartile) of the combined set:\", q3_value)\n"
   ]
  },
  {
   "cell_type": "code",
   "execution_count": 41,
   "metadata": {},
   "outputs": [
    {
     "name": "stdout",
     "output_type": "stream",
     "text": [
      "[-18, -10, -8, -3, -3, 2, 4, 5, 7, 9, 11, 12, 12]\n",
      "5\n"
     ]
    },
    {
     "ename": "TypeError",
     "evalue": "'list' object is not callable",
     "output_type": "error",
     "traceback": [
      "\u001b[1;31m---------------------------------------------------------------------------\u001b[0m",
      "\u001b[1;31mTypeError\u001b[0m                                 Traceback (most recent call last)",
      "Cell \u001b[1;32mIn[41], line 18\u001b[0m\n\u001b[0;32m     14\u001b[0m \u001b[38;5;28mprint\u001b[39m(median)\n\u001b[0;32m     16\u001b[0m position_of_Q1\u001b[38;5;241m=\u001b[39m(\u001b[38;5;28mlen\u001b[39m(L)\u001b[38;5;241m+\u001b[39m\u001b[38;5;241m1\u001b[39m)\u001b[38;5;241m/\u001b[39m\u001b[38;5;241m4\u001b[39m\n\u001b[1;32m---> 18\u001b[0m value_of_positionQ1 \u001b[38;5;241m=\u001b[39m\u001b[43mL\u001b[49m\u001b[43m(\u001b[49m\u001b[43mposition_of_Q1\u001b[49m\u001b[43m)\u001b[49m\u001b[38;5;241m+\u001b[39mL(position_of_Q1)\u001b[38;5;241m/\u001b[39m\u001b[38;5;241m2\u001b[39m\n\u001b[0;32m     20\u001b[0m \u001b[38;5;28mprint\u001b[39m(position_of_Q1)\n",
      "\u001b[1;31mTypeError\u001b[0m: 'list' object is not callable"
     ]
    }
   ],
   "source": [
    "L = [-10, -18, 12, 5, 7, 12, -3]\n",
    "M = [-8, 4, -3, 9, 2, 11]\n",
    "\n",
    "L.extend(M)\n",
    "L.sort()\n",
    "print(L)\n",
    "\n",
    "position_of_Mediam=(len(L)+1)/2\n",
    "\n",
    "position_of_Mediam=int(position_of_Mediam)\n",
    "\n",
    "median=L[position_of_Mediam]\n",
    "\n",
    "print(median)\n",
    "\n",
    "position_of_Q1=(len(L)+1)/4\n",
    "\n",
    "value_of_positionQ1 =L(position_of_Q1)+L(position_of_Q1)/2\n",
    "\n",
    "print(position_of_Q1)\n",
    "\n"
   ]
  },
  {
   "cell_type": "code",
   "execution_count": null,
   "metadata": {},
   "outputs": [
    {
     "name": "stdout",
     "output_type": "stream",
     "text": [
      "[-10, -18, 12, 5, 7, 12, -3]\n"
     ]
    }
   ],
   "source": [
    "Q = [-10, -18, 12, 5, 7, 12, -3]\n",
    "Q1=Q #meken wenne tawa list ekak hedana eka \n",
    "print(Q1)"
   ]
  },
  {
   "cell_type": "code",
   "execution_count": null,
   "metadata": {},
   "outputs": [
    {
     "name": "stdout",
     "output_type": "stream",
     "text": [
      "['saa', 'mnsg', 'gbg', 1, 2, 3]\n"
     ]
    }
   ],
   "source": [
    "a=[\"saa\",\"mnsg\",\"gbg\"]\n",
    "b=[1,2,3]\n",
    "a.extend(b)\n",
    "print(a)"
   ]
  },
  {
   "cell_type": "code",
   "execution_count": 18,
   "metadata": {},
   "outputs": [
    {
     "name": "stdout",
     "output_type": "stream",
     "text": [
      "['apple', 'banana', 'cherry']\n"
     ]
    },
    {
     "ename": "NameError",
     "evalue": "name 'mylist' is not defined",
     "output_type": "error",
     "traceback": [
      "\u001b[1;31m---------------------------------------------------------------------------\u001b[0m",
      "\u001b[1;31mNameError\u001b[0m                                 Traceback (most recent call last)",
      "Cell \u001b[1;32mIn[18], line 5\u001b[0m\n\u001b[0;32m      3\u001b[0m \u001b[38;5;28mprint\u001b[39m(mylist_new)\n\u001b[0;32m      4\u001b[0m mylist_new[\u001b[38;5;241m1\u001b[39m]\u001b[38;5;241m=\u001b[39m\u001b[38;5;241m1000\u001b[39m\n\u001b[1;32m----> 5\u001b[0m \u001b[38;5;28mprint\u001b[39m(\u001b[43mmylist\u001b[49m, mylist_new)\n",
      "\u001b[1;31mNameError\u001b[0m: name 'mylist' is not defined"
     ]
    }
   ],
   "source": [
    "thislist = [\"apple\", \"banana\", \"cherry\"]\n",
    "mylist_new = thislist.copy()#meken wenne thiyana ekama copy wenawa\n",
    "print(mylist_new)\n",
    "mylist_new[1]=1000\n",
    "print(mylist, mylist_new)"
   ]
  },
  {
   "cell_type": "code",
   "execution_count": null,
   "metadata": {},
   "outputs": [
    {
     "name": "stdout",
     "output_type": "stream",
     "text": [
      "[-100, -148, 122, 54, 7, 12, -3, -150, -148, 125, 5, 7, 12, -3] 14\n"
     ]
    }
   ],
   "source": [
    "w = [-100, -148, 122, 54, 7, 12, -3]\n",
    "z = [-150, -148, 125, 5, 7, 12, -3]\n",
    "x=w+z\n",
    "print(x,len(x))\n"
   ]
  },
  {
   "cell_type": "code",
   "execution_count": 19,
   "metadata": {},
   "outputs": [
    {
     "name": "stdout",
     "output_type": "stream",
     "text": [
      "(12, 'Apple', 10) 3\n",
      "<class 'tuple'>\n"
     ]
    }
   ],
   "source": [
    "my_tupl1=(12,\"Apple\",10)\n",
    "print(my_tupl1,len(my_tupl1))\n",
    "print(type(my_tupl1))"
   ]
  },
  {
   "cell_type": "code",
   "execution_count": null,
   "metadata": {},
   "outputs": [
    {
     "name": "stdout",
     "output_type": "stream",
     "text": [
      "(13,) 1\n"
     ]
    }
   ],
   "source": [
    "my_tupl2=(13,)\n",
    "\n",
    "print(my_tupl2,len(my_tupl2))"
   ]
  },
  {
   "cell_type": "code",
   "execution_count": null,
   "metadata": {},
   "outputs": [
    {
     "ename": "TypeError",
     "evalue": "'tuple' object does not support item assignment",
     "output_type": "error",
     "traceback": [
      "\u001b[1;31m---------------------------------------------------------------------------\u001b[0m",
      "\u001b[1;31mTypeError\u001b[0m                                 Traceback (most recent call last)",
      "Cell \u001b[1;32mIn[14], line 2\u001b[0m\n\u001b[0;32m      1\u001b[0m my_tupl3\u001b[38;5;241m=\u001b[39m(\u001b[38;5;124m\"\u001b[39m\u001b[38;5;124mdog\u001b[39m\u001b[38;5;124m\"\u001b[39m,\u001b[38;5;124m\"\u001b[39m\u001b[38;5;124mCat\u001b[39m\u001b[38;5;124m\"\u001b[39m,\u001b[38;5;124m\"\u001b[39m\u001b[38;5;124mpus\u001b[39m\u001b[38;5;124m\"\u001b[39m)\n\u001b[1;32m----> 2\u001b[0m \u001b[43mmy_tupl3\u001b[49m\u001b[43m[\u001b[49m\u001b[38;5;241;43m1\u001b[39;49m\u001b[43m]\u001b[49m\u001b[38;5;241m=\u001b[39m\u001b[38;5;124m\"\u001b[39m\u001b[38;5;124mbanana\u001b[39m\u001b[38;5;124m\"\u001b[39m\n\u001b[0;32m      4\u001b[0m \u001b[38;5;28mprint\u001b[39m(my_tupl3[\u001b[38;5;241m1\u001b[39m])\n",
      "\u001b[1;31mTypeError\u001b[0m: 'tuple' object does not support item assignment"
     ]
    }
   ],
   "source": [
    "my_tupl3=(\"dog\",\"Cat\",\"pus\")\n",
    "my_tupl3[1]=\"banana\"\n",
    "\n",
    "print(my_tupl3[1])"
   ]
  },
  {
   "cell_type": "code",
   "execution_count": null,
   "metadata": {},
   "outputs": [
    {
     "name": "stdout",
     "output_type": "stream",
     "text": [
      "('dog', 'banana', 'pus') <class 'tuple'>\n"
     ]
    }
   ],
   "source": [
    "my_tupl4=(\"dog\",\"Cat\",\"pus\")\n",
    "my_tupl5=list(my_tupl4)\n",
    "\n",
    "my_tupl5[1]=\"banana\"\n",
    "my_tupl4=tuple(my_tupl5)\n",
    "\n",
    "print(my_tupl4,type(my_tupl4))"
   ]
  },
  {
   "cell_type": "code",
   "execution_count": null,
   "metadata": {},
   "outputs": [
    {
     "name": "stdout",
     "output_type": "stream",
     "text": [
      "(-1, 5, 5, 8, 9, 10) <class 'tuple'>\n"
     ]
    }
   ],
   "source": [
    "my_tupl6=(10,8,20,5)\n",
    "my_tupl7=(5,9,-1)\n",
    "\n",
    "x1=list(my_tupl6)\n",
    "x2=list(my_tupl7)\n",
    "\n",
    "x1.pop(2)\n",
    "x1.extend(x2)\n",
    "x1.sort()\n",
    "new_tuple=tuple(x1)\n",
    "\n",
    "print(new_tuple,type(new_tuple))\n"
   ]
  },
  {
   "cell_type": "code",
   "execution_count": 23,
   "metadata": {},
   "outputs": [
    {
     "name": "stdout",
     "output_type": "stream",
     "text": [
      "(8, 20)\n",
      "(10, 8, 20)\n",
      "(20, 5, 12, 'car')\n"
     ]
    }
   ],
   "source": [
    "my=(10,8,20,5,12,\"car\")\n",
    "print(my[1:3])\n",
    "print(my[:3])\n",
    "print(my[2:])"
   ]
  },
  {
   "cell_type": "code",
   "execution_count": null,
   "metadata": {},
   "outputs": [
    {
     "name": "stdout",
     "output_type": "stream",
     "text": [
      "10 Rat True\n"
     ]
    }
   ],
   "source": [
    "n1=((1,10,2),(\"Dog\",\"Cat\",\"Rat\"),(True,False))\n",
    "\n",
    "print(n1[0][1],n1[1][2],n1[2][0])"
   ]
  },
  {
   "cell_type": "code",
   "execution_count": 35,
   "metadata": {},
   "outputs": [
    {
     "name": "stdout",
     "output_type": "stream",
     "text": [
      "8\n"
     ]
    }
   ],
   "source": [
    "mysen = (2,5,8,11,14,17,10,15,20,25)\n",
    "#range(value_1,value2,value3)\n",
    "#       start, stop ,range\n",
    "s1=range(2,8,3)\n",
    "sun=mysen[2]\n",
    "print(sun)"
   ]
  },
  {
   "cell_type": "code",
   "execution_count": null,
   "metadata": {},
   "outputs": [
    {
     "name": "stdout",
     "output_type": "stream",
     "text": [
      "{'name': 'sugar', 'price': 25050, 'weight': '1kg'} <class 'dict'>\n"
     ]
    }
   ],
   "source": [
    "\n",
    "dic1={\"name\":\"sugar\",\"price\":25050,\"weight\":\"1kg\"}\n",
    "print(dic1,type(dic1))"
   ]
  },
  {
   "cell_type": "code",
   "execution_count": 36,
   "metadata": {},
   "outputs": [
    {
     "ename": "NameError",
     "evalue": "name 'dic1' is not defined",
     "output_type": "error",
     "traceback": [
      "\u001b[1;31m---------------------------------------------------------------------------\u001b[0m",
      "\u001b[1;31mNameError\u001b[0m                                 Traceback (most recent call last)",
      "Cell \u001b[1;32mIn[36], line 2\u001b[0m\n\u001b[0;32m      1\u001b[0m dic2\u001b[38;5;241m=\u001b[39m{\u001b[38;5;124m\"\u001b[39m\u001b[38;5;124mname\u001b[39m\u001b[38;5;124m\"\u001b[39m:\u001b[38;5;124m\"\u001b[39m\u001b[38;5;124msugar\u001b[39m\u001b[38;5;124m\"\u001b[39m,\u001b[38;5;124m\"\u001b[39m\u001b[38;5;124mprice\u001b[39m\u001b[38;5;124m\"\u001b[39m:\u001b[38;5;241m25050\u001b[39m,\u001b[38;5;124m\"\u001b[39m\u001b[38;5;124mprice\u001b[39m\u001b[38;5;124m\"\u001b[39m:\u001b[38;5;241m23444\u001b[39m,\u001b[38;5;124m\"\u001b[39m\u001b[38;5;124mweight\u001b[39m\u001b[38;5;124m\"\u001b[39m:\u001b[38;5;124m\"\u001b[39m\u001b[38;5;124m1kg\u001b[39m\u001b[38;5;124m\"\u001b[39m}\n\u001b[1;32m----> 2\u001b[0m \u001b[38;5;28mprint\u001b[39m(\u001b[43mdic1\u001b[49m,\u001b[38;5;28mtype\u001b[39m(dic1))\u001b[38;5;66;03m#duplicate value\u001b[39;00m\n",
      "\u001b[1;31mNameError\u001b[0m: name 'dic1' is not defined"
     ]
    }
   ],
   "source": [
    "dic2={\"name\":\"sugar\",\"price\":25050,\"price\":23444,\"weight\":\"1kg\"}\n",
    "print(dic1,type(dic1))#duplicate value"
   ]
  },
  {
   "cell_type": "code",
   "execution_count": null,
   "metadata": {},
   "outputs": [
    {
     "name": "stdout",
     "output_type": "stream",
     "text": [
      "sugar\n",
      "Milk\n"
     ]
    }
   ],
   "source": [
    "dic3={\"name\":\"sugar\",\"price\":25050,\"weight\":\"1kg\"}\n",
    "print(dic3[\"name\"])#1 item  ekak print karanna ona nam mehma print karanne\n",
    "dic3[\"name\"]=\"Milk\"#wena ekak update karana widiha\n",
    "print(dic3[\"name\"])"
   ]
  },
  {
   "cell_type": "code",
   "execution_count": null,
   "metadata": {},
   "outputs": [
    {
     "name": "stdout",
     "output_type": "stream",
     "text": [
      "{'name': 'Tea', 'price': 100, 'weight': '100ml'}\n",
      "{'name': 'Tea', 'price': 100, 'weight': '100ml', 'color': 'white'}\n",
      "{'name': 'Tea', 'price': 100, 'color': 'white'}\n",
      "{'name': 'Tea', 'price': 100}\n",
      "{'name': 'Tea', 'price': 100, 'color': 'white'}\n",
      "{'price': 100, 'color': 'white'}\n"
     ]
    }
   ],
   "source": [
    "dic4={\"name\":\"sugar\",\"price\":25050,\"weight\":\"1kg\"}\n",
    "dic4.update({\"name\":\"Tea\",\"price\":100,\"weight\":\"100ml\"})#update karanna use karanne\n",
    "\n",
    "print(dic4)\n",
    "\n",
    "dic4[\"color\"]=\"white\"#thawa value ekak add karanna puluwan\n",
    "\n",
    "print(dic4)\n",
    "\n",
    "dic4.pop(\"weight\")#remove karanna use karanne\n",
    "\n",
    "print(dic4)\n",
    "\n",
    "dic4.popitem() #last value eka remove wenawa\n",
    "\n",
    "print(dic4)\n",
    "\n",
    "dic4[\"color\"]=\"white\"\n",
    "\n",
    "print(dic4)\n",
    "\n",
    "del dic4[\"name\"]#delete karanna use karanne\n",
    "\n",
    "print(dic4)\n",
    "\n"
   ]
  },
  {
   "cell_type": "code",
   "execution_count": null,
   "metadata": {},
   "outputs": [
    {
     "ename": "NameError",
     "evalue": "name 'dic5' is not defined",
     "output_type": "error",
     "traceback": [
      "\u001b[1;31m---------------------------------------------------------------------------\u001b[0m",
      "\u001b[1;31mNameError\u001b[0m                                 Traceback (most recent call last)",
      "Cell \u001b[1;32mIn[39], line 4\u001b[0m\n\u001b[0;32m      1\u001b[0m dic5\u001b[38;5;241m=\u001b[39m{\u001b[38;5;124m\"\u001b[39m\u001b[38;5;124mname\u001b[39m\u001b[38;5;124m\"\u001b[39m:\u001b[38;5;124m\"\u001b[39m\u001b[38;5;124msugar\u001b[39m\u001b[38;5;124m\"\u001b[39m,\u001b[38;5;124m\"\u001b[39m\u001b[38;5;124mprice\u001b[39m\u001b[38;5;124m\"\u001b[39m:\u001b[38;5;241m25050\u001b[39m,\u001b[38;5;124m\"\u001b[39m\u001b[38;5;124mweight\u001b[39m\u001b[38;5;124m\"\u001b[39m:\u001b[38;5;124m\"\u001b[39m\u001b[38;5;124m1kg\u001b[39m\u001b[38;5;124m\"\u001b[39m}\n\u001b[0;32m      2\u001b[0m \u001b[38;5;28;01mdel\u001b[39;00m dic5\n\u001b[1;32m----> 4\u001b[0m \u001b[38;5;28mprint\u001b[39m(\u001b[43mdic5\u001b[49m)\n",
      "\u001b[1;31mNameError\u001b[0m: name 'dic5' is not defined"
     ]
    }
   ],
   "source": [
    "dic5={\"name\":\"sugar\",\"price\":25050,\"weight\":\"1kg\"}\n",
    "del dic5#full ekma delete una hindha \n",
    "\n",
    "print(dic5)#a nisa error enne"
   ]
  },
  {
   "cell_type": "code",
   "execution_count": 37,
   "metadata": {},
   "outputs": [
    {
     "name": "stdout",
     "output_type": "stream",
     "text": [
      "{'name': 'sugar', 'price': 25050, 'weight': '1kg'}\n"
     ]
    }
   ],
   "source": [
    "dic6={\"name\":\"sugar\",\"price\":25050,\"weight\":\"1kg\"}\n",
    "dic6.clear\n",
    "\n",
    "print(dic6)\n"
   ]
  },
  {
   "cell_type": "code",
   "execution_count": null,
   "metadata": {},
   "outputs": [],
   "source": [
    "\n",
    "\n",
    "\n",
    "\n"
   ]
  },
  {
   "cell_type": "code",
   "execution_count": null,
   "metadata": {},
   "outputs": [
    {
     "name": "stdout",
     "output_type": "stream",
     "text": [
      "<built-in method keys of dict object at 0x000002B8EF25A9C0>\n"
     ]
    }
   ],
   "source": [
    "dic9={\"name\":\"sugar\",\"price\":25050,\"weight\":\"1kg\"}\n",
    "print(dic9.keys)\n"
   ]
  },
  {
   "cell_type": "code",
   "execution_count": null,
   "metadata": {},
   "outputs": [
    {
     "name": "stdout",
     "output_type": "stream",
     "text": [
      "{'name': 'Soap', 'price': 200.0, 'qty': 300}\n",
      "{'name': 'Soap', 'price': 200.0, 'qty': 200}\n"
     ]
    }
   ],
   "source": [
    "dictionary_1={\n",
    "  \"name\" : \"Soap\",\n",
    "  \"price\" : 200.00,\n",
    "  \"qty\" : 200\n",
    "}\n",
    "dictionary_2= dictionary_1.copy()\n",
    "dictionary_1[\"qty\"] = 300\n",
    "print(dictionary_1)\n",
    "print(dictionary_2)"
   ]
  },
  {
   "cell_type": "code",
   "execution_count": null,
   "metadata": {},
   "outputs": [
    {
     "name": "stdout",
     "output_type": "stream",
     "text": [
      "{'name': 'Soap', 'price': 200.0, 'qty': 300}\n",
      "{'name': 'Soap', 'price': 200.0, 'qty': 200}\n"
     ]
    }
   ],
   "source": [
    "dictionary_1 = {\n",
    "    \"name\" : \"Soap\",\n",
    "    \"price\" : 200.00,\n",
    "    \"qty\" : 200\n",
    "}\n",
    "dictionary_2 = dict(dictionary_1)\n",
    "dictionary_1[\"qty\"] = 300\n",
    "print(dictionary_1)\n",
    "print(dictionary_2)"
   ]
  },
  {
   "cell_type": "code",
   "execution_count": null,
   "metadata": {},
   "outputs": [
    {
     "name": "stdout",
     "output_type": "stream",
     "text": [
      "True\n",
      "False\n",
      "True True\n",
      "False True\n",
      "True\n",
      "False\n",
      "False\n"
     ]
    }
   ],
   "source": [
    "x=5\n",
    "y=6\n",
    "print(x>1 and y<10)\n",
    "print(x>5 and y>10)\n",
    "\n",
    "print(x>1 , y<10)\n",
    "print(x>5 , y<10)\n",
    "\n",
    "print(x>1 or y<10)\n",
    "print(x>5 or y>10)\n",
    "\n",
    "print(not x>2)"
   ]
  },
  {
   "cell_type": "code",
   "execution_count": 38,
   "metadata": {},
   "outputs": [
    {
     "name": "stdout",
     "output_type": "stream",
     "text": [
      "True\n"
     ]
    }
   ],
   "source": [
    "x=int(input(\"Enter input number\"))\n",
    "\n",
    "print(0<x<100 and x%2==1)\n",
    "\n",
    "\n"
   ]
  },
  {
   "cell_type": "code",
   "execution_count": null,
   "metadata": {},
   "outputs": [],
   "source": [
    "x = int(input(\"Enter a value :\"))\n",
    "y = x % 7\n",
    "print(y==0)"
   ]
  },
  {
   "cell_type": "code",
   "execution_count": null,
   "metadata": {},
   "outputs": [
    {
     "name": "stdout",
     "output_type": "stream",
     "text": [
      "False\n",
      "True\n"
     ]
    }
   ],
   "source": [
    "x=5\n",
    "y=6\n",
    "print(x is y)\n",
    "print(x is not y)"
   ]
  },
  {
   "cell_type": "code",
   "execution_count": 39,
   "metadata": {},
   "outputs": [
    {
     "name": "stdout",
     "output_type": "stream",
     "text": [
      "78125\n"
     ]
    }
   ],
   "source": [
    "x=5\n",
    "x**=7\n",
    "\n",
    "print(x)"
   ]
  },
  {
   "cell_type": "code",
   "execution_count": null,
   "metadata": {},
   "outputs": [
    {
     "name": "stdout",
     "output_type": "stream",
     "text": [
      "True\n",
      "False\n"
     ]
    }
   ],
   "source": [
    "nums =[10,12,8,5,4]\n",
    "print(12 in nums)#me num eka mehe thiyanwdh kiyala check karnanwa\n",
    "print(12 not in nums)"
   ]
  },
  {
   "cell_type": "code",
   "execution_count": null,
   "metadata": {},
   "outputs": [],
   "source": [
    "#bitwise operators"
   ]
  },
  {
   "cell_type": "code",
   "execution_count": null,
   "metadata": {},
   "outputs": [
    {
     "name": "stdout",
     "output_type": "stream",
     "text": [
      "odd number\n"
     ]
    }
   ],
   "source": [
    "n=3\n",
    "if n%2 ==0:\n",
    "    print(\"even number\")#flow controls\n",
    "else:#flow controls hariyata allign wenna ona nttm eya reeor pennanawa\n",
    "    print(\"odd number\")#flow controls\n",
    "    "
   ]
  },
  {
   "cell_type": "code",
   "execution_count": null,
   "metadata": {},
   "outputs": [
    {
     "name": "stdout",
     "output_type": "stream",
     "text": [
      "zero\n"
     ]
    }
   ],
   "source": [
    "a=0\n",
    "if a<0:\n",
    "    print(\"negative number\")\n",
    "elif a>0:\n",
    "    print(\"positive number\")\n",
    "else:\n",
    "    print(\"zero\")"
   ]
  },
  {
   "cell_type": "code",
   "execution_count": null,
   "metadata": {},
   "outputs": [
    {
     "name": "stdout",
     "output_type": "stream",
     "text": [
      "Valid number\n"
     ]
    }
   ],
   "source": [
    "M=666\n",
    "if M>100:\n",
    "    print(\"Valid number\")\n",
    "elif M>85:\n",
    "    print(\"A\")\n",
    "elif M>=75:\n",
    "    print(\"B\")\n",
    "elif M>=65:\n",
    "    print(\"C\")\n",
    "elif M>=55:\n",
    "    print(\"C\")\n",
    "else :\n",
    "    print(\"Fail\")\n"
   ]
  },
  {
   "cell_type": "code",
   "execution_count": null,
   "metadata": {},
   "outputs": [
    {
     "name": "stdout",
     "output_type": "stream",
     "text": [
      "b is lagest number\n"
     ]
    }
   ],
   "source": [
    "a=500000\n",
    "b=1000002006\n",
    "c=10000\n",
    "if a>=b and a>=c:\n",
    "    print(\"a is lagest number\")\n",
    "elif b>=a and b>=c:\n",
    "    print(\"b is lagest number\")\n",
    "else :\n",
    "    print(\"c is lagest number\")\n"
   ]
  },
  {
   "cell_type": "code",
   "execution_count": null,
   "metadata": {},
   "outputs": [
    {
     "name": "stdout",
     "output_type": "stream",
     "text": [
      "b is large\n"
     ]
    }
   ],
   "source": [
    "a=2112\n",
    "b=344443\n",
    "c=344\n",
    "if a>=b and a>=c:\n",
    "    print(\"A is big\")\n",
    "elif b>=a and b>=c:\n",
    "    print(\"b is large\")\n",
    "\n",
    "else :\n",
    "    print(\"c is big\")"
   ]
  },
  {
   "cell_type": "code",
   "execution_count": null,
   "metadata": {},
   "outputs": [
    {
     "name": "stdout",
     "output_type": "stream",
     "text": [
      "Not\n"
     ]
    }
   ],
   "source": [
    "x = int(input(\"Enter a value :\"))\n",
    "result=\"multipication\"if x%3==0  and  x%2==0 else \"Not\"\n",
    "print (result)"
   ]
  },
  {
   "cell_type": "code",
   "execution_count": null,
   "metadata": {},
   "outputs": [
    {
     "name": "stdout",
     "output_type": "stream",
     "text": [
      "Even\n"
     ]
    }
   ],
   "source": [
    "x = int(input(\"Enter a value: \"))\n",
    "result = \"Multiplication and Even\" if x % 3 == 0 and x % 2 == 0 else \"Even\" if x % 2 == 0 else \"Not\"\n",
    "print(result)\n"
   ]
  },
  {
   "cell_type": "code",
   "execution_count": null,
   "metadata": {},
   "outputs": [
    {
     "name": "stdout",
     "output_type": "stream",
     "text": [
      "Not\n"
     ]
    }
   ],
   "source": [
    "n = int(input(\"Enter a value :\"))\n",
    "m1=\"ok\"if (n%3==0  and  n%2==0 )else \"Not\"\n",
    "print (m1)"
   ]
  },
  {
   "cell_type": "code",
   "execution_count": null,
   "metadata": {},
   "outputs": [
    {
     "name": "stdout",
     "output_type": "stream",
     "text": [
      "Unknown\n"
     ]
    }
   ],
   "source": [
    "response_code=3\n",
    "match response_code:\n",
    "    case 200:\n",
    "      print(\"OK\")\n",
    "    case 201:\n",
    "        print(\"create\")\n",
    "    case 404:\n",
    "        print(\"404 Not Found\")\n",
    "    case 500:\n",
    "         print(\"Internal Server Error\")\n",
    "    case _:\n",
    "         print(\"Unknown\")\n"
   ]
  },
  {
   "cell_type": "code",
   "execution_count": null,
   "metadata": {},
   "outputs": [
    {
     "name": "stdout",
     "output_type": "stream",
     "text": [
      "positive number greater than 1\n"
     ]
    }
   ],
   "source": [
    "xn = 99\n",
    "match xn:\n",
    "    case 0:\n",
    "        print(\"zero\")\n",
    "    case -1:\n",
    "        print(\"negative number\")\n",
    "    case 1:\n",
    "        print(\"positive one\")\n",
    "    case _ if xn>1:\n",
    "        print(\"positive number greater than 1\")\n",
    "    case _ if xn<-1:\n",
    "        print(\"positive number less than 1\")\n",
    "    case _:\n",
    "        print(\"miss matched\")\n"
   ]
  },
  {
   "cell_type": "code",
   "execution_count": 41,
   "metadata": {},
   "outputs": [
    {
     "name": "stdout",
     "output_type": "stream",
     "text": [
      "miss matched\n"
     ]
    }
   ],
   "source": [
    "n=9\n",
    "match n:\n",
    "    case 0:\n",
    "        print(\"zero\")\n",
    "    case-1:\n",
    "        prim(\"-\")\n",
    "    case 100:\n",
    "        print(\"rightNumber\")\n",
    "    case _:\n",
    "        print(\"miss matched\")\n"
   ]
  },
  {
   "cell_type": "code",
   "execution_count": 42,
   "metadata": {},
   "outputs": [
    {
     "name": "stdout",
     "output_type": "stream",
     "text": [
      "wrong number\n"
     ]
    }
   ],
   "source": [
    "bo=0\n",
    "match bo:\n",
    "    case 1:\n",
    "        print(\"Wrong\")\n",
    "    case _:\n",
    "        print(\"wrong number\")"
   ]
  },
  {
   "cell_type": "code",
   "execution_count": null,
   "metadata": {},
   "outputs": [
    {
     "name": "stdout",
     "output_type": "stream",
     "text": [
      "positive number less than 1\n"
     ]
    }
   ],
   "source": [
    "xn = -2\n",
    "match xn:\n",
    "    case 0:\n",
    "        print(\"zero\")\n",
    "    case -1:\n",
    "        print(\"negative number\")\n",
    "    case 1:\n",
    "        print(\"positive one\")\n",
    "    case xn if xn>1:\n",
    "        print(\"positive number greater than 1\")\n",
    "    case xn if xn<-1:\n",
    "        print(\"positive number less than 1\")\n",
    "    case _:\n",
    "        print(\"miss matched\")\n"
   ]
  },
  {
   "cell_type": "code",
   "execution_count": null,
   "metadata": {},
   "outputs": [
    {
     "name": "stdout",
     "output_type": "stream",
     "text": [
      "16\n"
     ]
    }
   ],
   "source": [
    "numbers =[2,8]\n",
    "match numbers:\n",
    "    case[x,y]:\n",
    "        print(x*y)\n",
    "    case [x,y,z]:\n",
    "        print(x+y+z)\n",
    "    case _:\n",
    "        print(\"miss matched\")"
   ]
  },
  {
   "cell_type": "code",
   "execution_count": null,
   "metadata": {},
   "outputs": [
    {
     "name": "stdout",
     "output_type": "stream",
     "text": [
      "two elements matched\n"
     ]
    }
   ],
   "source": [
    "p =[4,6]\n",
    "match p:\n",
    "    case[]:\n",
    "        print(\"empty list\")\n",
    "    case [x,y]:\n",
    "        print(\"two elements matched\")\n",
    "    case _:\n",
    "        print(\"miss matched\")"
   ]
  },
  {
   "cell_type": "code",
   "execution_count": null,
   "metadata": {},
   "outputs": [
    {
     "name": "stdout",
     "output_type": "stream",
     "text": [
      "APPLE\n",
      "BANANA\n",
      "MANGO\n"
     ]
    }
   ],
   "source": [
    "fruits=[\"APPLE\",\"BANANA\",\"MANGO\"]\n",
    "for i in fruits:\n",
    "    print(i)"
   ]
  },
  {
   "cell_type": "code",
   "execution_count": null,
   "metadata": {},
   "outputs": [],
   "source": []
  },
  {
   "cell_type": "code",
   "execution_count": null,
   "metadata": {},
   "outputs": [
    {
     "name": "stdout",
     "output_type": "stream",
     "text": [
      "[4]\n",
      "[4, 25]\n",
      "[4, 25, 64]\n"
     ]
    }
   ],
   "source": [
    "mylist=[2,5,8]\n",
    "newlist=[]\n",
    "for i in mylist:\n",
    "    newlist.append(i**2)\n",
    "    print(newlist)\n",
    "\n"
   ]
  },
  {
   "cell_type": "code",
   "execution_count": null,
   "metadata": {},
   "outputs": [
    {
     "name": "stdout",
     "output_type": "stream",
     "text": [
      "1\n",
      "2\n",
      "3\n",
      "4\n",
      "5\n",
      "6\n",
      "7\n",
      "8\n",
      "9\n"
     ]
    }
   ],
   "source": [
    "mylist5=range(1,10)\n",
    "for i in mylist5:\n",
    "    print(i)"
   ]
  },
  {
   "cell_type": "code",
   "execution_count": null,
   "metadata": {},
   "outputs": [
    {
     "name": "stdout",
     "output_type": "stream",
     "text": [
      "[4489]\n"
     ]
    }
   ],
   "source": [
    "mylist6=[i**2 for i in range(67,88,99)]\n",
    "\n",
    "print(mylist6)"
   ]
  },
  {
   "cell_type": "code",
   "execution_count": null,
   "metadata": {},
   "outputs": [
    {
     "name": "stdout",
     "output_type": "stream",
     "text": [
      "[1, 3, 5, 5, 5, 5, 3, 2, 2, 6, 7, 7, 8]\n",
      "[1, 4, 9, 16, 25, 36, 49, 64, 81, 100]\n"
     ]
    }
   ],
   "source": [
    "n = [1, 3, 5, 5, 5, 5, 3, 2, 2, 6, 7, 7, 8]\n",
    "squares = [x**2 for x in range(1, 11)]\n",
    "\n",
    "print(n)\n",
    "print(squares)\n"
   ]
  },
  {
   "cell_type": "code",
   "execution_count": null,
   "metadata": {},
   "outputs": [
    {
     "name": "stdout",
     "output_type": "stream",
     "text": [
      "0End\n",
      "1End\n",
      "2End\n",
      "3End\n",
      "4End\n",
      "5End\n"
     ]
    }
   ],
   "source": [
    "m=5\n",
    "i=0\n",
    "while i<=m:\n",
    "    print(i, end= \"\")#ekama line eke print karanna use karanawa\n",
    "    i+=1\n",
    "    print(\"End\")"
   ]
  },
  {
   "cell_type": "code",
   "execution_count": null,
   "metadata": {},
   "outputs": [
    {
     "name": "stdout",
     "output_type": "stream",
     "text": [
      "0\n",
      "2\n",
      "4\n",
      "6\n",
      "8\n",
      "10\n",
      "12\n"
     ]
    }
   ],
   "source": [
    "x = int(input(\"Input number : \"))\n",
    "i = 0\n",
    "while i < x :\n",
    "  print(i)\n",
    "  i+=2"
   ]
  },
  {
   "cell_type": "code",
   "execution_count": null,
   "metadata": {},
   "outputs": [],
   "source": [
    "x = int(input(\"Input number : \"))\n",
    "i = 0\n",
    "while i < x :\n",
    "  if i == 100 :\n",
    "    break\n",
    "  else :\n",
    "    print(i)\n",
    "    i+=2"
   ]
  },
  {
   "cell_type": "code",
   "execution_count": null,
   "metadata": {},
   "outputs": [
    {
     "name": "stdout",
     "output_type": "stream",
     "text": [
      "5\n",
      "15\n",
      "9\n",
      "7\n",
      "19\n",
      "99\n"
     ]
    }
   ],
   "source": [
    "my_list66=[5,8,15,10,9,7,19,99,100]\n",
    "\n",
    "for i in my_list66:\n",
    "    if i%2==0:\n",
    "        continue\n",
    "    else:\n",
    "        print(i)\n",
    "       \n"
   ]
  },
  {
   "cell_type": "code",
   "execution_count": null,
   "metadata": {},
   "outputs": [],
   "source": [
    "total=100\n",
    "while True:\n",
    "    num = int(input(\"Enter a number : \"))\n",
    "    if num == 0:\n",
    "        break\n",
    "    else :\n",
    "        total += num\n",
    "\n",
    "        print( total)"
   ]
  },
  {
   "cell_type": "code",
   "execution_count": null,
   "metadata": {},
   "outputs": [
    {
     "name": "stdout",
     "output_type": "stream",
     "text": [
      "1 34.8 50\n"
     ]
    }
   ],
   "source": [
    "my_list1 = [1, 34.80, 50]\n",
    "x, y, z = my_list1\n",
    "print(x, y, z)\n"
   ]
  },
  {
   "cell_type": "code",
   "execution_count": null,
   "metadata": {},
   "outputs": [
    {
     "name": "stdout",
     "output_type": "stream",
     "text": [
      "1 34.8 50\n"
     ]
    }
   ],
   "source": [
    "my_dict = {'x': 1, 'y': 34.80, 'z': 50}\n",
    "\n",
    "x, y, z = my_dict.values()\n",
    "\n",
    "print(x, y, z)\n"
   ]
  },
  {
   "cell_type": "code",
   "execution_count": null,
   "metadata": {},
   "outputs": [
    {
     "name": "stdout",
     "output_type": "stream",
     "text": [
      "x 1\n",
      "y 34.8\n",
      "z 50\n"
     ]
    }
   ],
   "source": [
    "my_dic2 = {'x': 1, 'y': 34.80, 'z': 50}\n",
    "for key,value in my_dic2.items():\n",
    "    print(key,value)\n"
   ]
  },
  {
   "cell_type": "code",
   "execution_count": null,
   "metadata": {},
   "outputs": [
    {
     "name": "stdout",
     "output_type": "stream",
     "text": [
      "1\n",
      "34.8\n",
      "50\n"
     ]
    }
   ],
   "source": [
    "my_dic3 = {'x': 1, 'y': 34.80, 'z': 50}\n",
    "for value in my_dic3.values():\n",
    "    print( value)\n"
   ]
  },
  {
   "cell_type": "code",
   "execution_count": null,
   "metadata": {},
   "outputs": [
    {
     "name": "stdout",
     "output_type": "stream",
     "text": [
      "{'x': 1, 'y': 34.8, 'z': 50, 'l': 1, 'n': 34.8, 's': 50}\n"
     ]
    }
   ],
   "source": [
    "my_dic3 = {'x': 1, 'y': 34.80, 'z': 50}\n",
    "my_dic4 = {'l': 1, 'n': 34.80, 's': 50}\n",
    "my_dic4 = my_dic3|my_dic4# and| merge wenawa\n",
    "print(my_dic4)\n"
   ]
  },
  {
   "cell_type": "code",
   "execution_count": null,
   "metadata": {},
   "outputs": [
    {
     "name": "stdout",
     "output_type": "stream",
     "text": [
      "34.8\n",
      "10.2\n",
      "{'l': 1, 'n': 34.8, 's': 50}\n"
     ]
    }
   ],
   "source": [
    "my_dic6 = {'l': 1, 'n': 34.80, 's': 50}\n",
    "\n",
    "print(my_dic6['n'])  # Output: 34.8\n",
    "print(my_dic6.get(\"e\", 10.20))  # Output: 10.2 (default value since 'e' is not a key)\n",
    "print(my_dic6)"
   ]
  },
  {
   "cell_type": "code",
   "execution_count": 74,
   "metadata": {},
   "outputs": [
    {
     "name": "stdout",
     "output_type": "stream",
     "text": [
      "17.0\n"
     ]
    }
   ],
   "source": [
    "def add_numbers(a,b):\n",
    "    return a+b\n",
    "print(add_numbers(a,b))"
   ]
  },
  {
   "cell_type": "code",
   "execution_count": null,
   "metadata": {},
   "outputs": [
    {
     "name": "stdout",
     "output_type": "stream",
     "text": [
      "153.86\n"
     ]
    }
   ],
   "source": [
    "PI = 3.14\n",
    "def calulate_area(r):\n",
    "    return PI * r**2\n",
    "print(calulate_area(7))"
   ]
  },
  {
   "cell_type": "code",
   "execution_count": null,
   "metadata": {},
   "outputs": [
    {
     "name": "stdout",
     "output_type": "stream",
     "text": [
      "72\n"
     ]
    }
   ],
   "source": [
    "my_list9 = [9,8,9,10,11,12,13]\n",
    "def calculate(x):\n",
    "    sum=0\n",
    "    for i in x:\n",
    "        sum += i\n",
    "    return sum\n",
    "\n",
    "print(calculate(my_list9))"
   ]
  },
  {
   "cell_type": "code",
   "execution_count": null,
   "metadata": {},
   "outputs": [],
   "source": [
    "#------------------------------------------------------------------------------------DAY 04---------------------------------------------------------------------------------"
   ]
  },
  {
   "cell_type": "code",
   "execution_count": 69,
   "metadata": {},
   "outputs": [
    {
     "name": "stdout",
     "output_type": "stream",
     "text": [
      "2406\n"
     ]
    }
   ],
   "source": [
    "def x(*args):  # arbitrary positional arguments\n",
    "    sum = 0\n",
    "    for i in args:\n",
    "        sum += i  # Add each element to sum\n",
    "    return sum  # Return sum after the loop finishes\n",
    "\n",
    "print(x(3, 3, 23, 2343, 34))\n"
   ]
  },
  {
   "cell_type": "code",
   "execution_count": 50,
   "metadata": {},
   "outputs": [
    {
     "name": "stdout",
     "output_type": "stream",
     "text": [
      "Please enter a valid number.\n",
      "Total: 144\n"
     ]
    }
   ],
   "source": [
    "def n(*args):\n",
    "    total = sum(args)  \n",
    "    print(\"Total:\", total)\n",
    "\n",
    "\n",
    "numbers = []\n",
    "while True:\n",
    "    try:\n",
    "        num = int(input(\"Input number (or 0 to stop): \"))\n",
    "        if num == 0:\n",
    "            break\n",
    "        numbers.append(num)  \n",
    "    except ValueError:\n",
    "        print(\"Please enter a valid number.\")\n",
    "\n",
    "n(*numbers)\n"
   ]
  },
  {
   "cell_type": "code",
   "execution_count": null,
   "metadata": {},
   "outputs": [
    {
     "name": "stdout",
     "output_type": "stream",
     "text": [
      "Student name: 3\n",
      "maximum grade 2343\n",
      "minimum grade 3\n",
      "average grade 600.75\n",
      "600.75\n"
     ]
    }
   ],
   "source": [
    "#calculate and print higest grade ,lowest grade and average grade from the provided scores\n",
    "#if no grades are provided print no grades available\n",
    "\n",
    "def calculate_grades(name,*args):\n",
    "    print(\"Student name:\",name)\n",
    "    if not args:\n",
    "        print(\"No grades available.\")\n",
    "        return\n",
    "    else:\n",
    "        print(\"maximum grade\",max(args))\n",
    "        print(\"minimum grade\",min(args))\n",
    "        print(\"average grade\",sum(args)/len(args))\n",
    "        return sum(args)/len(args)\n",
    "        \n",
    "\n",
    "print(calculate_grades(3,3,23,2343,34))\n",
    "\n",
    "    \n",
    "    \n"
   ]
  },
  {
   "cell_type": "code",
   "execution_count": null,
   "metadata": {},
   "outputs": [
    {
     "name": "stdout",
     "output_type": "stream",
     "text": [
      "name Jhon\n",
      "age 30\n",
      "city Badulla\n"
     ]
    }
   ],
   "source": [
    "def n(**x):# 2**\n",
    "    for key, value in x.items():\n",
    "        print(key, value)\n",
    "\n",
    "n(name=\"Jhon\", age=30, city=\"Badulla\")\n"
   ]
  },
  {
   "cell_type": "code",
   "execution_count": 76,
   "metadata": {},
   "outputs": [
    {
     "name": "stdout",
     "output_type": "stream",
     "text": [
      "{'Name': 'John', 'age': 30, 'city': 'Badulla', 'department': 'IT'}\n",
      "{'Name': 'fahim', 'age': 31, 'city': 'Colombo', 'department': 'HR'}\n"
     ]
    }
   ],
   "source": [
    "#employe managment system\n",
    "#write the phython function employee_info that except a required name parameter and arbinarynumber of keyboard arguments no of keyword arguments represnting addisinal information         \n",
    "# function shoud print employees names itarate to keyword argument print each key values there in the format \",<key>:<value\"\n",
    "\n",
    "#return the dictonory with all emplyee detail \n",
    "\n",
    "def employee_info(name, **kwargs):\n",
    "    employee_details = {\"Name\": name}\n",
    "    for key, value in kwargs.items():\n",
    "        employee_details[key] = value\n",
    "    return employee_details\n",
    "\n",
    "print(employee_info(\"John\", age=30, city=\"Badulla\", department=\"IT\"))\n",
    "print(employee_info(\"fahim\", age=31, city=\"Colombo\", department=\"HR\"))\n"
   ]
  },
  {
   "cell_type": "code",
   "execution_count": null,
   "metadata": {},
   "outputs": [
    {
     "name": "stdout",
     "output_type": "stream",
     "text": [
      "Employee Name: John Doe\n",
      "age: 30\n",
      "department: HR\n",
      "position: Manager\n",
      "{'name': 'John Doe'}\n"
     ]
    }
   ],
   "source": [
    "def employee_info1(name, **kwargs):\n",
    "    print(\"Employee Name: \" + name)\n",
    "    for key, value in kwargs.items():\n",
    "        print(key + \": \" + str(value))\n",
    "    return {\"name\": name}\n",
    "    \n",
    "\n",
    "\n",
    "employee = employee_info1(\"John Doe\", age=30, department=\"HR\", position=\"Manager\")\n",
    "print(employee)\n"
   ]
  },
  {
   "cell_type": "code",
   "execution_count": null,
   "metadata": {},
   "outputs": [
    {
     "data": {
      "text/plain": [
       "20"
      ]
     },
     "execution_count": 79,
     "metadata": {},
     "output_type": "execute_result"
    }
   ],
   "source": [
    "#Built-in Functions\n",
    "abs(-20)#absolute values"
   ]
  },
  {
   "cell_type": "code",
   "execution_count": 81,
   "metadata": {},
   "outputs": [
    {
     "name": "stdout",
     "output_type": "stream",
     "text": [
      "<map object at 0x0000021F9219D7E0> <class 'map'>\n",
      "[25, 4, 9] <class 'list'>\n"
     ]
    }
   ],
   "source": [
    "def find_square(x):\n",
    "    return x * x\n",
    "\n",
    "my_list44 = [5, 2, 3]\n",
    "\n",
    "result = map(find_square, my_list44)\n",
    "\n",
    "print(result, type(result))\n",
    "\n",
    "result = list(result)\n",
    "\n",
    "print(result, type(result))\n"
   ]
  },
  {
   "cell_type": "code",
   "execution_count": null,
   "metadata": {},
   "outputs": [],
   "source": [
    "my_n=[11,12,7,5]\n",
    "my_s=[9,5,4,1]\n",
    "\n",
    "map(function,iterble1,iterable2,...)"
   ]
  },
  {
   "cell_type": "code",
   "execution_count": null,
   "metadata": {},
   "outputs": [
    {
     "name": "stdout",
     "output_type": "stream",
     "text": [
      "[20, 17, 11, 6]\n"
     ]
    }
   ],
   "source": [
    "my_n = [11, 12, 7, 5]\n",
    "my_s = [9, 5, 4, 1]#map\n",
    "\n",
    "result = map(lambda x, y: x + y, my_n, my_s)\n",
    "\n",
    "result_list = list(result)\n",
    "print(result_list)\n"
   ]
  },
  {
   "cell_type": "code",
   "execution_count": 85,
   "metadata": {},
   "outputs": [
    {
     "name": "stdout",
     "output_type": "stream",
     "text": [
      "[20, 17, 11, 6]\n"
     ]
    }
   ],
   "source": [
    "my_n = [11, 12, 7, 5]\n",
    "my_s = [9, 5, 4, 1]\n",
    "\n",
    "def add_numbers(x, y):  \n",
    "    return x + y\n",
    "\n",
    "result = map(add_numbers, my_n, my_s)\n",
    "\n",
    "result = list(result)\n",
    "print(result)\n"
   ]
  },
  {
   "cell_type": "code",
   "execution_count": 84,
   "metadata": {},
   "outputs": [
    {
     "name": "stdout",
     "output_type": "stream",
     "text": [
      "[68.0, 86.0, 77.0, 86.0, 104.0]\n"
     ]
    }
   ],
   "source": [
    "#you have list of integer represnting temprotior in c \n",
    "#temp=list[20,30,25,30,40]\n",
    "#write phyon prgrm using map function to convert this temp into farentline use the formula \"Fahrenheit=celsisus *9/5=32\"\n",
    "# List of temperatures in Celsius\n",
    "temp = [20, 30, 25, 30, 40]\n",
    "\n",
    "def celsius_to_fahrenheit(celsius):\n",
    "    return (celsius * 9/5) + 32\n",
    "\n",
    "fahrenheit_temps = map(celsius_to_fahrenheit, temp)\n",
    "\n",
    "fahrenheit_temps = list(fahrenheit_temps)\n",
    "print(fahrenheit_temps)\n"
   ]
  },
  {
   "cell_type": "code",
   "execution_count": null,
   "metadata": {},
   "outputs": [
    {
     "name": "stdout",
     "output_type": "stream",
     "text": [
      "[8, 12, 14]\n"
     ]
    }
   ],
   "source": [
    "my_s = [5, 7, 8, 3, 12, 14]#filter\n",
    "\n",
    "def is_even(n):\n",
    "    return n % 2 == 0\n",
    "\n",
    "even_numbers = filter(is_even, my_s)\n",
    "\n",
    "even_numbers = list(even_numbers)\n",
    "print(even_numbers)\n"
   ]
  },
  {
   "cell_type": "code",
   "execution_count": 93,
   "metadata": {},
   "outputs": [
    {
     "name": "stdout",
     "output_type": "stream",
     "text": [
      "[5, 7, 3]\n"
     ]
    }
   ],
   "source": [
    "my_o = [5, 7, 8, 3, 12, 14]\n",
    "\n",
    "def is_odd(n):\n",
    "    return n % 2 == 1\n",
    "\n",
    "odd_numbers = filter(is_odd, my_o)\n",
    "\n",
    "odd_numbers = list(odd_numbers)\n",
    "print(odd_numbers)\n"
   ]
  },
  {
   "cell_type": "code",
   "execution_count": null,
   "metadata": {},
   "outputs": [
    {
     "name": "stdout",
     "output_type": "stream",
     "text": [
      "8\n"
     ]
    }
   ],
   "source": [
    "#phython Lambda function\n",
    "# syntax   -    lambda arguments:expression\n",
    "\n",
    "add=lambda x,y: x+y \n",
    "print(add(3,5))"
   ]
  },
  {
   "cell_type": "code",
   "execution_count": 97,
   "metadata": {},
   "outputs": [
    {
     "name": "stdout",
     "output_type": "stream",
     "text": [
      "11\n"
     ]
    }
   ],
   "source": [
    "\n",
    "result=(lambda x,y: x+y)(5,6)\n",
    "\n",
    "print(result)\n"
   ]
  },
  {
   "cell_type": "code",
   "execution_count": 103,
   "metadata": {},
   "outputs": [
    {
     "name": "stdout",
     "output_type": "stream",
     "text": [
      "[('John', 20), ('Cathy', 22), ('Emma', 25), ('Frank', 19)]\n"
     ]
    }
   ],
   "source": [
    "#write progrmme take list of peples , where each people content name ,age(int)\n",
    "#use the lamda function to filter out the tupells where the age is <18\n",
    "#print the list of people after filter\n",
    "\n",
    "people = [\n",
    "    (\"John\", 20),\n",
    "    (\"Alice\", 15),\n",
    "    (\"Bob\", 17),\n",
    "    (\"Cathy\", 22),\n",
    "    (\"David\", 10),\n",
    "    (\"Emma\", 25),\n",
    "    (\"Frank\", 19)\n",
    "]\n",
    "\n",
    "adults = filter(lambda person: person[1] >= 18, people)\n",
    "\n",
    "adults = list(adults)\n",
    "print(adults)  \n",
    "\n"
   ]
  },
  {
   "cell_type": "code",
   "execution_count": null,
   "metadata": {},
   "outputs": [
    {
     "name": "stdout",
     "output_type": "stream",
     "text": [
      "6\n"
     ]
    }
   ],
   "source": [
    "def my_s(n):\n",
    "    return lambda a: a * n\n",
    "\n",
    "my_1 = my_s(2)\n",
    "s = 3\n",
    "print(my_1(s))  "
   ]
  },
  {
   "cell_type": "code",
   "execution_count": 107,
   "metadata": {},
   "outputs": [
    {
     "name": "stdout",
     "output_type": "stream",
     "text": [
      "5\n"
     ]
    }
   ],
   "source": [
    "findMax = lambda a, b: a if a + b > 10 else b\n",
    "\n",
    "print(findMax(5, 6))  "
   ]
  },
  {
   "cell_type": "code",
   "execution_count": 109,
   "metadata": {},
   "outputs": [
    {
     "data": {
      "text/plain": [
       "1"
      ]
     },
     "execution_count": 109,
     "metadata": {},
     "output_type": "execute_result"
    }
   ],
   "source": [
    "def find_factorial(n):\n",
    "    fac=1\n",
    "    while n>0:\n",
    "        fac*=n\n",
    "        n-=1\n",
    "    return fac\n",
    "\n",
    "find_factorial(0)"
   ]
  },
  {
   "cell_type": "code",
   "execution_count": 110,
   "metadata": {},
   "outputs": [
    {
     "data": {
      "text/plain": [
       "1"
      ]
     },
     "execution_count": 110,
     "metadata": {},
     "output_type": "execute_result"
    }
   ],
   "source": [
    "def factorial(x):\n",
    "    if x == 0 or x == 1:\n",
    "        return 1\n",
    "    else:\n",
    "        return(x * factorial(x-1))\n",
    "5 * factorial(4)\n",
    "4*factorial(3)\n",
    "3*factorial(2)\n",
    "2*factorial(1)\n",
    "1*factorial(0)\n"
   ]
  },
  {
   "cell_type": "code",
   "execution_count": 115,
   "metadata": {},
   "outputs": [
    {
     "name": "stdout",
     "output_type": "stream",
     "text": [
      "3628800\n"
     ]
    }
   ],
   "source": [
    "def factorial(x):\n",
    "    if x == 0 or x == 1:\n",
    "        return 1\n",
    "    else:\n",
    "        return x * factorial(x - 1)\n",
    "result = factorial(10)\n",
    "print(result) \n"
   ]
  },
  {
   "cell_type": "code",
   "execution_count": null,
   "metadata": {},
   "outputs": [
    {
     "name": "stdout",
     "output_type": "stream",
     "text": [
      "15\n"
     ]
    }
   ],
   "source": [
    "#calculate the sum off all the elements in an array or  a list\n",
    "#IMPLEMENT A RECURSIVE FUNCTION to genarate the nth Number in the fibonacci sequence .the fabconnaci sequence start with 0 and 1 ,and each subsequent\n",
    "#  numberis the sum of the two precedding ones\n",
    "\n",
    "def sum_of_elements(lst):\n",
    "    if not lst:\n",
    "        return 0\n",
    "    else:\n",
    "        return lst[0] + sum_of_elements(lst[1:])\n",
    "\n",
    "my_list = [1, 2, 3, 4, 5]\n",
    "print(sum_of_elements(my_list))  \n",
    "\n"
   ]
  },
  {
   "cell_type": "code",
   "execution_count": null,
   "metadata": {},
   "outputs": [
    {
     "name": "stdout",
     "output_type": "stream",
     "text": [
      "5\n"
     ]
    }
   ],
   "source": [
    "def fibonacci(n):\n",
    "    if n == 0:\n",
    "        return 0\n",
    "    elif n == 1:\n",
    "        return 1\n",
    "    else:\n",
    "        return fibonacci(n - 1) + fibonacci(n - 2)\n",
    "\n",
    "n = 5\n",
    "print(fibonacci(n)) "
   ]
  },
  {
   "cell_type": "code",
   "execution_count": null,
   "metadata": {},
   "outputs": [],
   "source": []
  }
 ],
 "metadata": {
  "kernelspec": {
   "display_name": "Python 3",
   "language": "python",
   "name": "python3"
  },
  "language_info": {
   "codemirror_mode": {
    "name": "ipython",
    "version": 3
   },
   "file_extension": ".py",
   "mimetype": "text/x-python",
   "name": "python",
   "nbconvert_exporter": "python",
   "pygments_lexer": "ipython3",
   "version": "3.13.0"
  }
 },
 "nbformat": 4,
 "nbformat_minor": 2
}
